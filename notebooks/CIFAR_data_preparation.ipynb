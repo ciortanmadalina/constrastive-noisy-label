{
 "cells": [
  {
   "cell_type": "markdown",
   "metadata": {},
   "source": [
    "# CIFAR data download and preparation"
   ]
  },
  {
   "cell_type": "code",
   "execution_count": null,
   "metadata": {},
   "outputs": [],
   "source": [
    "import sys\n",
    "sys.path.append(\"..\")\n",
    "import numpy as np\n",
    "import random\n",
    "\n",
    "\n",
    "import pickle\n",
    "import time\n",
    "import itertools\n",
    "import logging\n",
    "from tqdm import tqdm\n",
    "import os\n",
    "import datetime\n",
    "import random\n",
    "import pandas as pd\n",
    "import models\n",
    "import shutil\n",
    "import matplotlib.pyplot as plt\n",
    "import numpy as npn\n",
    "import torchvision\n",
    "from collections import Counter\n",
    "from sklearn.model_selection import StratifiedKFold\n",
    "import utils\n",
    "import warnings\n",
    "from PIL import Image\n",
    "import h5py\n",
    "\n",
    "plt.ion()\n",
    "plt.show()\n",
    "%load_ext autoreload\n",
    "%autoreload 2"
   ]
  },
  {
   "cell_type": "markdown",
   "metadata": {},
   "source": [
    "## Generate Asymmetric noise"
   ]
  },
  {
   "cell_type": "code",
   "execution_count": null,
   "metadata": {},
   "outputs": [],
   "source": [
    "data_raw = torchvision.datasets.CIFAR10('../../datasets/', train=True, download=True)\n",
    "print(data_raw.data.shape)\n",
    "true_targets = data_raw.targets\n",
    "true_targets = np.array(true_targets)\n",
    "\n",
    "dataset_name = \"cifar10\"\n",
    "for i in range(3):\n",
    "    corrupted_targets = dataset.get_asym_corrupted_labels(true_targets, noisy_rate, num_classes = 10)\n",
    "    np.save(f\"../train_data/asym_{dataset_name}_corrupted_{noisy_rate}_{i}.npy\", corrupted_targets)\n",
    "np.save(f\"../train_data/{dataset_name}_true.npy\", true_targets)"
   ]
  },
  {
   "cell_type": "code",
   "execution_count": null,
   "metadata": {},
   "outputs": [],
   "source": [
    "data_raw = torchvision.datasets.CIFAR100('../../datasets/',\n",
    "                                         train=True,\n",
    "                                         download=True)\n",
    "num_classes = 100\n",
    "print(data_raw.data.shape)\n",
    "true_targets = data_raw.targets\n",
    "true_targets = np.array(true_targets)\n",
    "\n",
    "dataset_name = \"cifar100\"\n",
    "\n",
    "for i in range(3):\n",
    "    corrupted_targets = dataset.get_asym_corrupted_labels(true_targets,\n",
    "                                                     noisy_rate,\n",
    "                                                     num_classes=num_classes)\n",
    "    np.save(f\"../train_data/asym_{dataset_name}_corrupted_{noisy_rate}_{i}.npy\",\n",
    "            corrupted_targets)\n",
    "np.save(f\"../train_data/{dataset_name}_true.npy\", true_targets)"
   ]
  },
  {
   "cell_type": "markdown",
   "metadata": {},
   "source": [
    "## Generate Symmetric noise"
   ]
  },
  {
   "cell_type": "code",
   "execution_count": null,
   "metadata": {},
   "outputs": [],
   "source": [
    "data_raw = torchvision.datasets.CIFAR10('../../datasets/', train=True, download=True)\n",
    "print(data_raw.data.shape)\n",
    "true_targets = data_raw.targets\n",
    "true_targets = np.array(true_targets)\n",
    "\n",
    "dataset_name = \"cifar10\"\n",
    "for i in range(3):\n",
    "    corrupted_targets = dataset.get_corrupted_labels(true_targets, noisy_rate)\n",
    "    np.save(f\"../train_data/{dataset_name}_corrupted_{noisy_rate}_{i}.npy\", corrupted_targets)\n",
    "np.save(f\"../train_data/{dataset_name}_true.npy\", true_targets)"
   ]
  },
  {
   "cell_type": "code",
   "execution_count": null,
   "metadata": {},
   "outputs": [],
   "source": [
    "data_raw = torchvision.datasets.CIFAR100('../../datasets/',\n",
    "                                         train=True,\n",
    "                                         download=True)\n",
    "num_classes = 100\n",
    "print(data_raw.data.shape)\n",
    "true_targets = data_raw.targets\n",
    "true_targets = np.array(true_targets)\n",
    "\n",
    "dataset_name = \"cifar100\"\n",
    "\n",
    "for i in range(3):\n",
    "    corrupted_targets = dataset.get_corrupted_labels(true_targets,\n",
    "                                                     noisy_rate,\n",
    "                                                     num_classes=num_classes)\n",
    "    np.save(f\"../train_data/{dataset_name}_corrupted_{noisy_rate}_{i}.npy\",\n",
    "            corrupted_targets)\n",
    "np.save(f\"../train_data/{dataset_name}_true.npy\", true_targets)"
   ]
  },
  {
   "cell_type": "markdown",
   "metadata": {},
   "source": [
    "# Genearate Validation set"
   ]
  },
  {
   "cell_type": "code",
   "execution_count": null,
   "metadata": {},
   "outputs": [],
   "source": [
    "num_classes = 100\n",
    "dataset_name = \"cifar100\"\n",
    "# num_classes = 10\n",
    "# dataset_name = \"cifar10\"\n",
    "nb_folds = 5"
   ]
  },
  {
   "cell_type": "code",
   "execution_count": null,
   "metadata": {},
   "outputs": [],
   "source": [
    "for i in range(3): # for each version of the corrupted ground_truth\n",
    "    skf = StratifiedKFold(n_splits=nb_folds,shuffle=True, random_state=1) # generate folds\n",
    "    corrupted_targets = np.load(\n",
    "        f\"../train_data/{dataset_name}_corrupted_{noisy_rate}_{i}.npy\")\n",
    "\n",
    "    X = np.arange(len(corrupted_targets))\n",
    "\n",
    "    for j, (train_index,\n",
    "            val_index) in enumerate(skf.split(X, corrupted_targets)):\n",
    "        np.save(\n",
    "            f\"../train_data/{dataset_name}_corrupted_{noisy_rate}_{i}_train_{j}_{nb_folds}.npy\",\n",
    "            train_index)\n",
    "        np.save(\n",
    "            f\"../train_data/{dataset_name}_corrupted_{noisy_rate}_{i}_validation_{j}_{nb_folds}.npy\",\n",
    "            val_index)\n",
    "        \n",
    "        corrupted_val = dataset.get_corrupted_labels(corrupted_targets[val_index],\n",
    "                                                     0.5,\n",
    "                                                     num_classes=num_classes)\n",
    "        np.save(\n",
    "            f\"../train_data/{dataset_name}_corrupted_{noisy_rate}_{i}_corrupted_val_labels_{j}_{nb_folds}.npy\",\n",
    "            corrupted_val)"
   ]
  },
  {
   "cell_type": "code",
   "execution_count": null,
   "metadata": {},
   "outputs": [],
   "source": []
  }
 ],
 "metadata": {
  "kernelspec": {
   "display_name": "Python 3",
   "language": "python",
   "name": "python3"
  },
  "language_info": {
   "codemirror_mode": {
    "name": "ipython",
    "version": 3
   },
   "file_extension": ".py",
   "mimetype": "text/x-python",
   "name": "python",
   "nbconvert_exporter": "python",
   "pygments_lexer": "ipython3",
   "version": "3.7.4"
  }
 },
 "nbformat": 4,
 "nbformat_minor": 4
}
